{
 "cells": [
  {
   "cell_type": "markdown",
   "metadata": {
    "id": "5_a5lMllIjX9"
   },
   "source": [
    "# Phase separation prediction\n",
    "\n",
    "This Colab notebook enables prediction of IDR transfer free energies and saturation concentrations from sequence.\n",
    "- The models have been trained on CALVADOS 2 slab simulation data.\n",
    "- Conditions are fixed to T=293 K and I=150 mM.\n",
    "\n",
    "<b>How to cite this notebook:</b>\n",
    "- S. von Bülow, G. Tesei & K. Lindorff-Larsen, __Prediction of phase separation propensities of disordered proteins from sequence__ _bioRxiv_ 2024\n",
    "\n",
    "Further references:\n",
    "- Use of $\\nu_\\mathrm{SVR}$: <br>\n",
    "G. Tesei, A. I. Trolle, N. Jonsson, J. Betz, F. Pesce, K. E. Johansson, K. Lindorff-Larsen, __Conformational ensembles of the human intrinsically disordered proteome__ _Nature_ 2024 626, 897–904 DOI: https://doi.org/10.1038/s41586-023-07004-5\n",
    "- CALVADOS 2 model: <br>\n",
    "G. Tesei and K. Lindorff-Larsen, __Improved predictions of phase behaviour of intrinsically disordered proteins by tuning the interaction range [version 2; peer review: 2 approved]__ _Open Research Europe_ 2023 2(94) DOI: https://doi.org/10.12688/openreseurope.14967.2\n",
    "\n",
    "Author: Sören von Bülow (soren.bulow@bio.ku.dk)"
   ]
  },
  {
   "cell_type": "code",
   "execution_count": null,
   "metadata": {
    "cellView": "form",
    "colab": {
     "base_uri": "https://localhost:8080/"
    },
    "executionInfo": {
     "elapsed": 32871,
     "status": "ok",
     "timestamp": 1740482249425,
     "user": {
      "displayName": "Sören von Bülow",
      "userId": "15653917643251139738"
     },
     "user_tz": -60
    },
    "id": "1CsZ6Y9fywzl",
    "outputId": "a14042f2-08f6-40f3-92e4-b3b21aa72d60"
   },
   "outputs": [],
   "source": [
    "#@title <b>Preliminary operations</b>\n",
    "\n",
    "import os\n",
    "import warnings\n",
    "warnings.simplefilter(\"ignore\")\n",
    "\n",
    "print('Setting up the environment...')\n",
    "\n",
    "!rm -r sample_data &> dump\n",
    "!rm sequence.* &> dump\n",
    "!rm svr_model_nu* &> dump\n",
    "!rm residues* &> dump\n",
    "!rm example* &> dump\n",
    "!rm predictor.* &> dump\n",
    "!rm *joblib &> dump\n",
    "\n",
    "github_folder = 'https://raw.githubusercontent.com/KULL-Centre/_2024_buelow_PSpred/twin2pipsa'\n",
    "\n",
    "print(f'Downloading files from {github_folder}')\n",
    "\n",
    "os.system(f'wget {github_folder}/scripts_colab/sequence.py')\n",
    "os.system(f'wget {github_folder}/scripts_colab/predictor.py')\n",
    "os.system(f'wget {github_folder}/data/residues.csv')\n",
    "os.system(f'wget {github_folder}/data/example.fasta')\n",
    "os.system(f'wget -O model_dG.joblib {github_folder}/models/idrome90/mlp/dG/model.joblib')\n",
    "os.system(f'wget -O model_logcdil_mgml.joblib {github_folder}/models/idrome90/mlp/logcdil_mgml/model.joblib')\n",
    "os.system(f'wget -O svr_model_nu.joblib {github_folder}/models/svr_model_nu.joblib')\n",
    "\n",
    "!pip install 'scikit-learn==1.3' MDAnalysis biopython numba &> dump\n",
    "\n",
    "import joblib\n",
    "import sklearn\n",
    "import pandas as pd\n",
    "\n",
    "import sequence\n",
    "from predictor import *\n",
    "\n",
    "import numpy as np\n",
    "import MDAnalysis as mda\n",
    "import matplotlib.pyplot as plt\n",
    "\n",
    "from tqdm import tqdm\n",
    "from google.colab import files\n",
    "\n",
    "ncrossval = 50\n",
    "print('Environment set up.')\n",
    "print('Loading models...')\n",
    "\n",
    "residues = pd.read_csv('residues.csv').set_index('one')\n",
    "nu_file = 'svr_model_nu.joblib'\n",
    "\n",
    "features = ['mean_lambda', 'faro', 'shd', 'ncpr', 'fcr', 'scd', 'ah_ij','nu_svr']\n",
    "\n",
    "features_clean = {\n",
    "    'mean_lambda' : 'lambda',\n",
    "    'faro' : 'f(aromatics)',\n",
    "    'shd' : 'SHD',\n",
    "    'ncpr' : 'NCPR',\n",
    "    'fcr' : 'FCR',\n",
    "    'scd' : 'SCD',\n",
    "    'ah_ij' : 'LJ pairs',\n",
    "    'nu_svr' : 'nu(SVR)'\n",
    "}\n",
    "\n",
    "print('Input features are:')\n",
    "print('>>>>> '+ ', '.join([features_clean[fe] for fe in features]))\n",
    "\n",
    "!touch calvados.py\n",
    "\n",
    "models = {}\n",
    "models['dG'] = joblib.load(f'model_dG.joblib')\n",
    "models['logcdil_mgml'] = joblib.load(f'model_logcdil_mgml.joblib')\n",
    "\n",
    "mltype = 'mlp'\n",
    "alpha = 5\n",
    "layers = (10,10)\n",
    "\n",
    "targets = ['dG','logcdil_mgml']\n",
    "targets_clean = {\n",
    "    'dG' : 'Delta G',\n",
    "    'logcdil_mgml' : 'Saturation concentration',\n",
    "}\n",
    "\n",
    "print('Models loaded.')"
   ]
  },
  {
   "cell_type": "markdown",
   "metadata": {
    "id": "rLVOLP3AlHHV"
   },
   "source": [
    "# Predict single sequence\n",
    "\n",
    "Paste in an aminoacid sequence to predict phase separation propensities. The termini can be charged (unmodified) or not charged (capped), which should only have minor effects on the prediction if the sequence is long."
   ]
  },
  {
   "cell_type": "code",
   "execution_count": null,
   "metadata": {
    "cellView": "form",
    "colab": {
     "base_uri": "https://localhost:8080/"
    },
    "executionInfo": {
     "elapsed": 18567,
     "status": "ok",
     "timestamp": 1740482271822,
     "user": {
      "displayName": "Sören von Bülow",
      "userId": "15653917643251139738"
     },
     "user_tz": -60
    },
    "id": "0F7WtrIChg-F",
    "outputId": "2f48665c-264f-4128-d55a-9af40a709829"
   },
   "outputs": [],
   "source": [
    "#@title <b>Run single IDR prediction</font></b>\n",
    "\n",
    "try:\n",
    "    os.rmdir('sample_data')\n",
    "except:\n",
    "    pass\n",
    "\n",
    "NAME = \"LAF1\" #@param {type:\"string\"}\n",
    "SEQUENCE = \"MESNQSNNGGSGNAALNRGGRYVPPHLRGGDGGAAAAASAGGDDRRGGAGGGGYRRGGGNSGGGGGGGYDRGYNDNRDDRDNRGGSGGYGRDRNYEDRGYNGGGGGGGNRGYNNNRGGGGGGYNRQDRGDGGSSNFSRGGYNNRDEGSDNRGSGRSYNNDRRDNGGDGLEHHHHHH\" #@param {type:\"string\"}\n",
    "CHARGE_TERMINI = True # @param {type:'boolean'}\n",
    "TEMPERATURE = \"293 K (fixed)\" # @param ['293 K (fixed)']\n",
    "IONIC_STRENGTH = \"150 mM (fixed)\" # @param ['150 mM (fixed)']\n",
    "\n",
    "seq = SEQUENCE[:]\n",
    "if \" \" in seq:\n",
    "    seq = ''.join(seq.split())\n",
    "    print('Blank character(s) found in the provided sequence. Sequence has been corrected, but check for integrity.')\n",
    "\n",
    "print('='*80)\n",
    "print(f'NAME: {NAME}')\n",
    "print(f'SEQUENCE: {seq}')\n",
    "\n",
    "seqfeats = sequence.SeqFeatures(seq,residues=residues,charge_termini=CHARGE_TERMINI)\n",
    "X = X_from_seq(seq,features,residues=residues,charge_termini=CHARGE_TERMINI,nu_file=nu_file)\n",
    "\n",
    "for target in targets:\n",
    "  print('-'*80)\n",
    "  ys = models[target].predict(X)#,models)\n",
    "  ys_m = np.mean(ys)\n",
    "\n",
    "  if target == 'dG':\n",
    "    output = ys_m\n",
    "    unit = 'kT'\n",
    "    lower = ys_m - 1\n",
    "    upper = ys_m + 1\n",
    "  elif target == 'logcdil_mgml':\n",
    "    output = np.exp(ys_m)\n",
    "    lower = np.exp(ys_m-0.82)\n",
    "    upper = np.exp(ys_m+0.82)\n",
    "    unit = 'mg/mL'\n",
    "\n",
    "  print(f'{targets_clean[target]:25s} = {output:5.1f} {unit:6s} ({lower:.1f} -- {upper:.1f} {unit})')\n",
    "  if target == 'logcdil_mgml':\n",
    "    output_uM = output / seqfeats.mw * 1e6\n",
    "    lower_uM = lower / seqfeats.mw * 1e6\n",
    "    upper_uM = upper / seqfeats.mw * 1e6\n",
    "    print(f'{\"\":25s} = {output_uM:5.1f} {\"uM\":6s} ({lower_uM:.1f} -- {upper_uM:.1f} {\"uM\"})')\n",
    "print('='*80)"
   ]
  },
  {
   "cell_type": "markdown",
   "metadata": {
    "id": "p5mLRrURgona"
   },
   "source": [
    "## Predict variant effects\n",
    "\n",
    "Below we substitute each of the residues in the above input sequence one by one with any of the 19 other aminoacids. The resulting plot shows the effect on phase separation propensities. Negative values (red) indicate stronger phase separation, positive values (blue) indicate weaker phase separation compared to the input sequence."
   ]
  },
  {
   "cell_type": "code",
   "execution_count": null,
   "metadata": {
    "cellView": "form",
    "colab": {
     "base_uri": "https://localhost:8080/"
    },
    "executionInfo": {
     "elapsed": 82603,
     "status": "ok",
     "timestamp": 1740482379082,
     "user": {
      "displayName": "Sören von Bülow",
      "userId": "15653917643251139738"
     },
     "user_tz": -60
    },
    "id": "EvAjiCoYgqoJ",
    "outputId": "d1934abd-8a63-4830-a473-ef1dc50ea1e4"
   },
   "outputs": [],
   "source": [
    "#@title <b>Run variant effect prediction</font></b>\n",
    "\n",
    "p = np.argsort(residues['lambdas'].to_numpy())\n",
    "sorted_names = residues.index[p]\n",
    "aminoacids_sorted = \"\".join(sorted_names)\n",
    "\n",
    "ah_intgrl_map = sequence.make_ah_intgrl_map(residues)\n",
    "lambda_map = sequence.make_lambda_map(residues)\n",
    "\n",
    "target = 'dG'\n",
    "model = models[target]\n",
    "\n",
    "seq = SEQUENCE[:]\n",
    "wt_idx = np.zeros((len(seq)))\n",
    "dG_map = np.zeros((len(aminoacids_sorted),len(seq)))\n",
    "\n",
    "seq_feats = sequence.SeqFeatures(seq,residues=residues,charge_termini=CHARGE_TERMINI,nu_file=nu_file,\n",
    "            ah_intgrl_map=ah_intgrl_map,lambda_map=lambda_map)\n",
    "\n",
    "X = X_from_seq(seq,features,seq_feats=seq_feats)\n",
    "ys = model.predict(X)\n",
    "dG_wt = np.mean(ys)\n",
    "\n",
    "for idx, s in tqdm(enumerate(seq),total=len(seq)):\n",
    "    wt_idx[idx] = aminoacids_sorted.index(s)\n",
    "    for jdx, a in enumerate(aminoacids_sorted):\n",
    "        seq_new = list(seq)\n",
    "        seq_new[idx] = a\n",
    "        seq_new = \"\".join(seq_new)\n",
    "\n",
    "        seq_feats = sequence.SeqFeatures(seq_new,residues=residues,charge_termini=CHARGE_TERMINI,nu_file=nu_file,\n",
    "                    ah_intgrl_map=ah_intgrl_map,lambda_map=lambda_map)\n",
    "        X = X_from_seq(seq_new,features,seq_feats=seq_feats)\n",
    "        ys = model.predict(X)\n",
    "        ys_m = np.mean(ys)\n",
    "\n",
    "        dG_map[jdx,idx] = ys_m"
   ]
  },
  {
   "cell_type": "code",
   "execution_count": null,
   "metadata": {
    "cellView": "form",
    "colab": {
     "base_uri": "https://localhost:8080/",
     "height": 200
    },
    "executionInfo": {
     "elapsed": 3603,
     "status": "ok",
     "timestamp": 1740482413990,
     "user": {
      "displayName": "Sören von Bülow",
      "userId": "15653917643251139738"
     },
     "user_tz": -60
    },
    "id": "j4MeZOxxiIdi",
    "outputId": "c18ba93d-f7e0-4d49-a0ec-87b25e091923"
   },
   "outputs": [],
   "source": [
    "#@title <b>Plot variant effect results</font></b>\n",
    "\n",
    "\n",
    "from mpl_toolkits.axes_grid1 import make_axes_locatable\n",
    "\n",
    "fig, ax = plt.subplots(figsize=(14,9))#,sharex=True)\n",
    "\n",
    "_ = ax.imshow(dG_map - dG_wt,cmap=plt.cm.RdBu,vmin=-1,vmax=1)\n",
    "divider = make_axes_locatable(ax)\n",
    "cax = divider.append_axes(\"right\", size=\"1%\", pad=0.1)\n",
    "plt.colorbar(_, cax=cax,label=f'$\\Delta \\Delta G$ [kT]')\n",
    "\n",
    "print(f'{targets_clean[\"dG\"]} wt: {dG_wt:.1f} kT')\n",
    "\n",
    "ax.plot(wt_idx,'o',fillstyle='none',color='black',markersize=4)\n",
    "ax.set_xticks(np.arange(len(seq)))\n",
    "ax.set_xticklabels(seq,fontsize=7)\n",
    "ax.set_yticks(np.arange(len(aminoacids_sorted)))\n",
    "ax.set_yticklabels(aminoacids_sorted,fontsize=7)\n",
    "ax.grid(False)\n",
    "ax.set(xlabel='Residues')\n",
    "\n",
    "fig.tight_layout()\n",
    "fig.savefig(f'{NAME}_variants.pdf')"
   ]
  },
  {
   "cell_type": "markdown",
   "metadata": {
    "id": "_PrG7GsAkt_6"
   },
   "source": [
    "# Batch prediction\n",
    "\n",
    "An input fasta file can be uploaded. The code below predicts phase separation propensity and saturation concentrations for all sequences in the fasta file."
   ]
  },
  {
   "cell_type": "code",
   "execution_count": null,
   "metadata": {
    "cellView": "form",
    "id": "L9RekX9rtunn"
   },
   "outputs": [],
   "source": [
    "#@title <b>Run batch prediction</b>\n",
    "\n",
    "#@markdown File name\n",
    "FASTA_FILE = \"example.fasta\" #@param {type:\"string\"}\n",
    "CHARGE_TERMINI = True # @param {type:'boolean'}\n",
    "TEMPERATURE = \"293 K (fixed)\" # @param ['293 K (fixed)']\n",
    "IONIC_STRENGTH = \"150 uM (fixed)\" # @param ['150 uM (fixed)']\n",
    "\n",
    "if not os.path.isfile(FASTA_FILE):\n",
    "  print(f'Please upload file {FASTA_FILE}')\n",
    "  uploaded = files.upload()\n",
    "  if FASTA_FILE not in uploaded.keys():\n",
    "    raise NameError(f'Could not find file {FASTA_FILE}')\n",
    "\n",
    "records = sequence.read_fasta(FASTA_FILE)\n",
    "\n",
    "print('-'*80)\n",
    "print(f'FASTA FILE: {FASTA_FILE}')\n",
    "print(f'NUMBER OF SEQUENCES: {len(records)}')\n",
    "\n",
    "#@title <b>Run batch prediction</font></b>\n",
    "\n",
    "df_records = pd.DataFrame(dtype=object)\n",
    "\n",
    "for name, record in tqdm(records.items(),total=len(records)):\n",
    "  seq = str(record.seq)\n",
    "  df_records.loc[name,'Sequence'] = seq\n",
    "  seqfeats = sequence.SeqFeatures(seq,residues=residues,\n",
    "                                  charge_termini=CHARGE_TERMINI,nu_file=nu_file)\n",
    "  for feat in features:\n",
    "    df_records.loc[name,feat] = getattr(seqfeats,feat)\n",
    "  X = X_from_seq(seq,features,residues=residues,\n",
    "                 charge_termini=CHARGE_TERMINI,nu_file=nu_file)\n",
    "  for target in targets:\n",
    "    ys = models[target].predict(X)#,models)\n",
    "    ys_m = np.mean(ys)\n",
    "    if target == 'dG':\n",
    "      df_records.loc[name,'Delta G [kT]'] = ys_m\n",
    "    if target == 'logcdil_mgml':\n",
    "      cdil_mgml = np.exp(ys_m)\n",
    "      df_records.loc[name,'Saturation concentration [mg/mL]'] = cdil_mgml\n",
    "      cdil_uM = cdil_mgml / seqfeats.mw * 1e6\n",
    "      df_records.loc[name,'Saturation concentration [uM]'] = cdil_uM\n",
    "\n",
    "df_records.index.name = 'Name'\n",
    "df_records.to_csv('df_PSprediction.csv')\n",
    "\n",
    "print('\\n')\n",
    "print('='*114)\n",
    "print(f'{\"Name\":20s} {\"Sequence\":33s} {\"Delta G\":>10s} {\"Saturation\":>16s} {\"Saturation\":>16s}')\n",
    "print(f'{\"\":20s} {\"\":33s} {\"\":>10s} {\"concentration\":>16s} {\"concentration\":>16s}')\n",
    "print(f'{\"\":20s} {\"\":33s} {\"[kT]\":>10s} {\"[mg/mL]\":>16s} {\"[uM]\":>16s}')\n",
    "\n",
    "print('='*114)\n",
    "for key, val in df_records.iterrows():\n",
    "  if len(list(val[\"Sequence\"])) > 30:\n",
    "    seqpr = f'{val[\"Sequence\"][:30]:30s}...'\n",
    "  else:\n",
    "    seqpr = f'{val[\"Sequence\"][:30]:30s}'\n",
    "  print(f'{key:20s} {seqpr:33s} {val[\"Delta G [kT]\"]:10.1f} {val[\"Saturation concentration [mg/mL]\"]:16.1f} {val[\"Saturation concentration [uM]\"]:16.1f}')"
   ]
  },
  {
   "cell_type": "code",
   "execution_count": null,
   "metadata": {
    "cellView": "form",
    "id": "bNX8tEIW29um"
   },
   "outputs": [],
   "source": [
    "#@title <b>Analysis</font></b>\n",
    "\n",
    "fcolor = plt.cm.summer\n",
    "\n",
    "fig, ax = plt.subplots(1,2,figsize=(9,4))\n",
    "\n",
    "for idx, target in enumerate(['Delta G [kT]','Saturation concentration [mg/mL]']):\n",
    "  axij = ax[idx]\n",
    "  axij.hist(df_records[target],bins=20,color=fcolor(0))\n",
    "\n",
    "  axij.set_xlabel(f'{target}')\n",
    "  axij.set_ylabel('Counts')\n",
    "  axij.grid(alpha=0.3)\n",
    "fig.tight_layout()"
   ]
  },
  {
   "cell_type": "code",
   "execution_count": null,
   "metadata": {
    "cellView": "form",
    "id": "-SCC7r8ltUTy"
   },
   "outputs": [],
   "source": [
    "#@title <b>Download dataframe</font></b>\n",
    "\n",
    "files.download('df_PSprediction.csv')"
   ]
  }
 ],
 "metadata": {
  "colab": {
   "provenance": [
    {
     "file_id": "https://github.com/KULL-Centre/_2024_buelow_PSpred/blob/main/PSLab.ipynb",
     "timestamp": 1740476816461
    }
   ]
  },
  "kernelspec": {
   "display_name": "Python 3 (ipykernel)",
   "language": "python",
   "name": "python3"
  },
  "language_info": {
   "codemirror_mode": {
    "name": "ipython",
    "version": 3
   },
   "file_extension": ".py",
   "mimetype": "text/x-python",
   "name": "python",
   "nbconvert_exporter": "python",
   "pygments_lexer": "ipython3",
   "version": "3.10.13"
  }
 },
 "nbformat": 4,
 "nbformat_minor": 0
}
